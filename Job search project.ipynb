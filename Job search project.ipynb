{
 "cells": [
  {
   "cell_type": "markdown",
   "id": "5d8b8b37",
   "metadata": {},
   "source": [
    "# About Dataset"
   ]
  },
  {
   "cell_type": "markdown",
   "id": "26870702",
   "metadata": {},
   "source": [
    "This dataset was manually scraped by me from  LinkedIn and contains more all 23 available job listing for data analyst and data scientist positions in Tallinn Estonia on 1st of January 2023, with features such as:\n",
    "\n",
    "Comapy name\n",
    "Company field\n",
    "Company size based on employee count\n",
    "Type of work \n",
    "Seniority\n",
    "Job Description and more."
   ]
  },
  {
   "cell_type": "markdown",
   "id": "ea2bc034",
   "metadata": {},
   "source": [
    "## 1. Load the data"
   ]
  },
  {
   "cell_type": "code",
   "execution_count": 57,
   "id": "3a932dff",
   "metadata": {},
   "outputs": [],
   "source": [
    "import pandas as pd"
   ]
  },
  {
   "cell_type": "code",
   "execution_count": 58,
   "id": "570c7d1c",
   "metadata": {},
   "outputs": [],
   "source": [
    "# read the data set using pandas .read_csv() method\n",
    "df_job_skills = pd.read_csv('Job offers_ data science and Data analyst; Tallinn,Estonia 01.01.2023 - Лист1.csv')"
   ]
  },
  {
   "cell_type": "code",
   "execution_count": 59,
   "id": "64f16b7a",
   "metadata": {},
   "outputs": [
    {
     "data": {
      "text/html": [
       "<div>\n",
       "<style scoped>\n",
       "    .dataframe tbody tr th:only-of-type {\n",
       "        vertical-align: middle;\n",
       "    }\n",
       "\n",
       "    .dataframe tbody tr th {\n",
       "        vertical-align: top;\n",
       "    }\n",
       "\n",
       "    .dataframe thead th {\n",
       "        text-align: right;\n",
       "    }\n",
       "</style>\n",
       "<table border=\"1\" class=\"dataframe\">\n",
       "  <thead>\n",
       "    <tr style=\"text-align: right;\">\n",
       "      <th></th>\n",
       "      <th>Job titel</th>\n",
       "      <th>Job description</th>\n",
       "      <th>Company</th>\n",
       "      <th>Employees</th>\n",
       "      <th>Field</th>\n",
       "      <th>Type of work</th>\n",
       "      <th>Level</th>\n",
       "      <th>Remote</th>\n",
       "    </tr>\n",
       "  </thead>\n",
       "  <tbody>\n",
       "    <tr>\n",
       "      <th>0</th>\n",
       "      <td>Finance Product Data Analyst</td>\n",
       "      <td>As a financial institution moving billions of ...</td>\n",
       "      <td>Wise</td>\n",
       "      <td>1,001-5,000</td>\n",
       "      <td>Financial Services</td>\n",
       "      <td>Full-time</td>\n",
       "      <td>Entry level</td>\n",
       "      <td>-</td>\n",
       "    </tr>\n",
       "    <tr>\n",
       "      <th>1</th>\n",
       "      <td>Data Governance Analyst in Data Governance tea...</td>\n",
       "      <td>SEB is a leading northern European financial s...</td>\n",
       "      <td>SEB Eesti</td>\n",
       "      <td>1,001-5,000</td>\n",
       "      <td>Financial Services</td>\n",
       "      <td>Full-time</td>\n",
       "      <td>-</td>\n",
       "      <td>-</td>\n",
       "    </tr>\n",
       "    <tr>\n",
       "      <th>2</th>\n",
       "      <td>Data Analyst at Baltic Banking AML/Fraud Inves...</td>\n",
       "      <td>Are you experienced data analyst with interest...</td>\n",
       "      <td>Swedbank</td>\n",
       "      <td>10,001+</td>\n",
       "      <td>Financial Services</td>\n",
       "      <td>Full-time</td>\n",
       "      <td>-</td>\n",
       "      <td>-</td>\n",
       "    </tr>\n",
       "    <tr>\n",
       "      <th>3</th>\n",
       "      <td>Data Analyst</td>\n",
       "      <td>Bolt is one of Europe’s leading technology com...</td>\n",
       "      <td>Bolt</td>\n",
       "      <td>1,001-5,000</td>\n",
       "      <td>Computer Software</td>\n",
       "      <td>Full-time</td>\n",
       "      <td>Entry level</td>\n",
       "      <td>-</td>\n",
       "    </tr>\n",
       "    <tr>\n",
       "      <th>4</th>\n",
       "      <td>Growth Analyst</td>\n",
       "      <td>As a Growth Analyst, you will be central to th...</td>\n",
       "      <td>Bolt</td>\n",
       "      <td>1,001-5,001</td>\n",
       "      <td>Computer Software</td>\n",
       "      <td>Full-time</td>\n",
       "      <td>Entry level</td>\n",
       "      <td>-</td>\n",
       "    </tr>\n",
       "  </tbody>\n",
       "</table>\n",
       "</div>"
      ],
      "text/plain": [
       "                                           Job titel  \\\n",
       "0                       Finance Product Data Analyst   \n",
       "1  Data Governance Analyst in Data Governance tea...   \n",
       "2  Data Analyst at Baltic Banking AML/Fraud Inves...   \n",
       "3                                       Data Analyst   \n",
       "4                                     Growth Analyst   \n",
       "\n",
       "                                     Job description    Company    Employees  \\\n",
       "0  As a financial institution moving billions of ...       Wise  1,001-5,000   \n",
       "1  SEB is a leading northern European financial s...  SEB Eesti  1,001-5,000   \n",
       "2  Are you experienced data analyst with interest...   Swedbank      10,001+   \n",
       "3  Bolt is one of Europe’s leading technology com...       Bolt  1,001-5,000   \n",
       "4  As a Growth Analyst, you will be central to th...       Bolt  1,001-5,001   \n",
       "\n",
       "                Field Type of work        Level Remote  \n",
       "0  Financial Services    Full-time  Entry level      -  \n",
       "1  Financial Services    Full-time            -      -  \n",
       "2  Financial Services    Full-time            -      -  \n",
       "3   Computer Software    Full-time  Entry level      -  \n",
       "4   Computer Software    Full-time  Entry level      -  "
      ]
     },
     "execution_count": 59,
     "metadata": {},
     "output_type": "execute_result"
    }
   ],
   "source": [
    "df_job_skills.head()\n"
   ]
  },
  {
   "cell_type": "markdown",
   "id": "96574d34",
   "metadata": {},
   "source": [
    "Data includes job title ,  job description , employees count ,company name , company field, type of work and position level."
   ]
  },
  {
   "cell_type": "markdown",
   "id": "07f8228e",
   "metadata": {},
   "source": [
    "## 2. Clean the data\n"
   ]
  },
  {
   "cell_type": "code",
   "execution_count": 60,
   "id": "95e91326",
   "metadata": {},
   "outputs": [],
   "source": [
    "df_job_skills.drop(['Remote'], axis=1,inplace=True)"
   ]
  },
  {
   "cell_type": "code",
   "execution_count": 61,
   "id": "cbe70e31",
   "metadata": {},
   "outputs": [
    {
     "data": {
      "text/html": [
       "<div>\n",
       "<style scoped>\n",
       "    .dataframe tbody tr th:only-of-type {\n",
       "        vertical-align: middle;\n",
       "    }\n",
       "\n",
       "    .dataframe tbody tr th {\n",
       "        vertical-align: top;\n",
       "    }\n",
       "\n",
       "    .dataframe thead th {\n",
       "        text-align: right;\n",
       "    }\n",
       "</style>\n",
       "<table border=\"1\" class=\"dataframe\">\n",
       "  <thead>\n",
       "    <tr style=\"text-align: right;\">\n",
       "      <th></th>\n",
       "      <th>Job titel</th>\n",
       "      <th>Job description</th>\n",
       "      <th>Company</th>\n",
       "      <th>Employees</th>\n",
       "      <th>Field</th>\n",
       "      <th>Type of work</th>\n",
       "      <th>Level</th>\n",
       "    </tr>\n",
       "  </thead>\n",
       "  <tbody>\n",
       "    <tr>\n",
       "      <th>0</th>\n",
       "      <td>Finance Product Data Analyst</td>\n",
       "      <td>As a financial institution moving billions of ...</td>\n",
       "      <td>Wise</td>\n",
       "      <td>1,001-5,000</td>\n",
       "      <td>Financial Services</td>\n",
       "      <td>Full-time</td>\n",
       "      <td>Entry level</td>\n",
       "    </tr>\n",
       "    <tr>\n",
       "      <th>1</th>\n",
       "      <td>Data Governance Analyst in Data Governance tea...</td>\n",
       "      <td>SEB is a leading northern European financial s...</td>\n",
       "      <td>SEB Eesti</td>\n",
       "      <td>1,001-5,000</td>\n",
       "      <td>Financial Services</td>\n",
       "      <td>Full-time</td>\n",
       "      <td>-</td>\n",
       "    </tr>\n",
       "    <tr>\n",
       "      <th>2</th>\n",
       "      <td>Data Analyst at Baltic Banking AML/Fraud Inves...</td>\n",
       "      <td>Are you experienced data analyst with interest...</td>\n",
       "      <td>Swedbank</td>\n",
       "      <td>10,001+</td>\n",
       "      <td>Financial Services</td>\n",
       "      <td>Full-time</td>\n",
       "      <td>-</td>\n",
       "    </tr>\n",
       "    <tr>\n",
       "      <th>3</th>\n",
       "      <td>Data Analyst</td>\n",
       "      <td>Bolt is one of Europe’s leading technology com...</td>\n",
       "      <td>Bolt</td>\n",
       "      <td>1,001-5,000</td>\n",
       "      <td>Computer Software</td>\n",
       "      <td>Full-time</td>\n",
       "      <td>Entry level</td>\n",
       "    </tr>\n",
       "    <tr>\n",
       "      <th>4</th>\n",
       "      <td>Growth Analyst</td>\n",
       "      <td>As a Growth Analyst, you will be central to th...</td>\n",
       "      <td>Bolt</td>\n",
       "      <td>1,001-5,001</td>\n",
       "      <td>Computer Software</td>\n",
       "      <td>Full-time</td>\n",
       "      <td>Entry level</td>\n",
       "    </tr>\n",
       "  </tbody>\n",
       "</table>\n",
       "</div>"
      ],
      "text/plain": [
       "                                           Job titel  \\\n",
       "0                       Finance Product Data Analyst   \n",
       "1  Data Governance Analyst in Data Governance tea...   \n",
       "2  Data Analyst at Baltic Banking AML/Fraud Inves...   \n",
       "3                                       Data Analyst   \n",
       "4                                     Growth Analyst   \n",
       "\n",
       "                                     Job description    Company    Employees  \\\n",
       "0  As a financial institution moving billions of ...       Wise  1,001-5,000   \n",
       "1  SEB is a leading northern European financial s...  SEB Eesti  1,001-5,000   \n",
       "2  Are you experienced data analyst with interest...   Swedbank      10,001+   \n",
       "3  Bolt is one of Europe’s leading technology com...       Bolt  1,001-5,000   \n",
       "4  As a Growth Analyst, you will be central to th...       Bolt  1,001-5,001   \n",
       "\n",
       "                Field Type of work        Level  \n",
       "0  Financial Services    Full-time  Entry level  \n",
       "1  Financial Services    Full-time            -  \n",
       "2  Financial Services    Full-time            -  \n",
       "3   Computer Software    Full-time  Entry level  \n",
       "4   Computer Software    Full-time  Entry level  "
      ]
     },
     "execution_count": 61,
     "metadata": {},
     "output_type": "execute_result"
    }
   ],
   "source": [
    "df_job_skills.head()\n"
   ]
  },
  {
   "cell_type": "markdown",
   "id": "7f37e8c0",
   "metadata": {},
   "source": [
    "## 3. Explore the dataset"
   ]
  },
  {
   "cell_type": "code",
   "execution_count": 62,
   "id": "b90f5ea4",
   "metadata": {},
   "outputs": [
    {
     "data": {
      "text/html": [
       "<div>\n",
       "<style scoped>\n",
       "    .dataframe tbody tr th:only-of-type {\n",
       "        vertical-align: middle;\n",
       "    }\n",
       "\n",
       "    .dataframe tbody tr th {\n",
       "        vertical-align: top;\n",
       "    }\n",
       "\n",
       "    .dataframe thead th {\n",
       "        text-align: right;\n",
       "    }\n",
       "</style>\n",
       "<table border=\"1\" class=\"dataframe\">\n",
       "  <thead>\n",
       "    <tr style=\"text-align: right;\">\n",
       "      <th></th>\n",
       "      <th>Job titel</th>\n",
       "      <th>Job description</th>\n",
       "      <th>Company</th>\n",
       "      <th>Employees</th>\n",
       "      <th>Field</th>\n",
       "      <th>Type of work</th>\n",
       "      <th>Level</th>\n",
       "    </tr>\n",
       "  </thead>\n",
       "  <tbody>\n",
       "    <tr>\n",
       "      <th>count</th>\n",
       "      <td>24</td>\n",
       "      <td>24</td>\n",
       "      <td>24</td>\n",
       "      <td>24</td>\n",
       "      <td>24</td>\n",
       "      <td>24</td>\n",
       "      <td>24</td>\n",
       "    </tr>\n",
       "    <tr>\n",
       "      <th>unique</th>\n",
       "      <td>23</td>\n",
       "      <td>24</td>\n",
       "      <td>10</td>\n",
       "      <td>4</td>\n",
       "      <td>7</td>\n",
       "      <td>1</td>\n",
       "      <td>4</td>\n",
       "    </tr>\n",
       "    <tr>\n",
       "      <th>top</th>\n",
       "      <td>Data Scientist</td>\n",
       "      <td>As a financial institution moving billions of ...</td>\n",
       "      <td>Bolt</td>\n",
       "      <td>1,001-5,000</td>\n",
       "      <td>Computer Software</td>\n",
       "      <td>Full-time</td>\n",
       "      <td>Mid-Senior level</td>\n",
       "    </tr>\n",
       "    <tr>\n",
       "      <th>freq</th>\n",
       "      <td>2</td>\n",
       "      <td>1</td>\n",
       "      <td>13</td>\n",
       "      <td>13</td>\n",
       "      <td>13</td>\n",
       "      <td>24</td>\n",
       "      <td>12</td>\n",
       "    </tr>\n",
       "  </tbody>\n",
       "</table>\n",
       "</div>"
      ],
      "text/plain": [
       "             Job titel                                    Job description  \\\n",
       "count               24                                                 24   \n",
       "unique              23                                                 24   \n",
       "top     Data Scientist  As a financial institution moving billions of ...   \n",
       "freq                 2                                                  1   \n",
       "\n",
       "       Company    Employees              Field Type of work             Level  \n",
       "count       24           24                 24           24                24  \n",
       "unique      10            4                  7            1                 4  \n",
       "top       Bolt  1,001-5,000  Computer Software    Full-time  Mid-Senior level  \n",
       "freq        13           13                 13           24                12  "
      ]
     },
     "execution_count": 62,
     "metadata": {},
     "output_type": "execute_result"
    }
   ],
   "source": [
    "df_job_skills.describe()\n"
   ]
  },
  {
   "cell_type": "markdown",
   "id": "cd26465f",
   "metadata": {},
   "source": [
    "Althogh dataset is small we can see that only 10 companies are hiring Data scientist and Data Analysts at the moment in Tallinn (01/01/2023), the most preffered level of knowledge is mid to senior and field is quite expected - Computer Software. Company with the most openings - Bolt."
   ]
  },
  {
   "cell_type": "code",
   "execution_count": 63,
   "id": "de7d105c",
   "metadata": {},
   "outputs": [],
   "source": [
    "import matplotlib.pyplot as plt\n",
    "import seaborn as sns"
   ]
  },
  {
   "cell_type": "markdown",
   "id": "4fd6a7c5",
   "metadata": {},
   "source": [
    "Simplyfing job titels to see which one are for Data scientists and which for Data analyst for further analysis:"
   ]
  },
  {
   "cell_type": "code",
   "execution_count": 64,
   "id": "573f7501",
   "metadata": {},
   "outputs": [],
   "source": [
    " def title_simplifier(title):\n",
    "        if 'scientist' in title.lower():\n",
    "            return 'data scientist'\n",
    "        elif 'analyst' in title.lower():\n",
    "            return 'data analyst'\n",
    "        elif 'engineer' in title.lower():\n",
    "            return 'data engineer'\n",
    "        elif 'manager' in title.lower():\n",
    "            return 'manager'\n",
    "        elif 'machine learning' in title.lower():\n",
    "            return 'machine learning'\n",
    "        else:\n",
    "            return 'na'"
   ]
  },
  {
   "cell_type": "code",
   "execution_count": 65,
   "id": "e466bfae",
   "metadata": {},
   "outputs": [],
   "source": [
    "df_job_skills['job_simp'] = df_job_skills['Job titel'].apply(title_simplifier)"
   ]
  },
  {
   "cell_type": "code",
   "execution_count": 66,
   "id": "2798a720",
   "metadata": {},
   "outputs": [
    {
     "data": {
      "text/plain": [
       "data analyst      17\n",
       "data scientist     6\n",
       "na                 1\n",
       "Name: job_simp, dtype: int64"
      ]
     },
     "execution_count": 66,
     "metadata": {},
     "output_type": "execute_result"
    }
   ],
   "source": [
    "df_job_skills.job_simp.value_counts()\n"
   ]
  },
  {
   "cell_type": "markdown",
   "id": "75941b71",
   "metadata": {},
   "source": [
    "Dataset has 17 offers for data analyst, 6 offers for data scientist and 1 not specified. This corresponds with 24 job offers we had in total.\n"
   ]
  },
  {
   "cell_type": "markdown",
   "id": "5c32f60c",
   "metadata": {},
   "source": [
    "Job description length:"
   ]
  },
  {
   "cell_type": "code",
   "execution_count": 67,
   "id": "83c770dc",
   "metadata": {},
   "outputs": [
    {
     "data": {
      "text/plain": [
       "0     4319\n",
       "1     3489\n",
       "2     2760\n",
       "3     2250\n",
       "4     1195\n",
       "5     2449\n",
       "6     6336\n",
       "7     3230\n",
       "8     2732\n",
       "9     3183\n",
       "10    5227\n",
       "11    2860\n",
       "12    3272\n",
       "13    2094\n",
       "14    2673\n",
       "15    2578\n",
       "16    3053\n",
       "17    3008\n",
       "18    2775\n",
       "19    1924\n",
       "20    2076\n",
       "21    2404\n",
       "22    3652\n",
       "23    3655\n",
       "Name: desc_len, dtype: int64"
      ]
     },
     "execution_count": 67,
     "metadata": {},
     "output_type": "execute_result"
    }
   ],
   "source": [
    "df_job_skills['desc_len'] = df_job_skills['Job description'].apply(lambda x: len(x))\n",
    "df_job_skills['desc_len']"
   ]
  },
  {
   "cell_type": "code",
   "execution_count": 68,
   "id": "3a82759a",
   "metadata": {},
   "outputs": [
    {
     "data": {
      "text/html": [
       "<div>\n",
       "<style scoped>\n",
       "    .dataframe tbody tr th:only-of-type {\n",
       "        vertical-align: middle;\n",
       "    }\n",
       "\n",
       "    .dataframe tbody tr th {\n",
       "        vertical-align: top;\n",
       "    }\n",
       "\n",
       "    .dataframe thead th {\n",
       "        text-align: right;\n",
       "    }\n",
       "</style>\n",
       "<table border=\"1\" class=\"dataframe\">\n",
       "  <thead>\n",
       "    <tr style=\"text-align: right;\">\n",
       "      <th></th>\n",
       "      <th>Job titel</th>\n",
       "      <th>Job description</th>\n",
       "      <th>Company</th>\n",
       "      <th>Employees</th>\n",
       "      <th>Field</th>\n",
       "      <th>Type of work</th>\n",
       "      <th>Level</th>\n",
       "      <th>job_simp</th>\n",
       "      <th>desc_len</th>\n",
       "    </tr>\n",
       "  </thead>\n",
       "  <tbody>\n",
       "    <tr>\n",
       "      <th>0</th>\n",
       "      <td>Finance Product Data Analyst</td>\n",
       "      <td>As a financial institution moving billions of ...</td>\n",
       "      <td>Wise</td>\n",
       "      <td>1,001-5,000</td>\n",
       "      <td>Financial Services</td>\n",
       "      <td>Full-time</td>\n",
       "      <td>Entry level</td>\n",
       "      <td>data analyst</td>\n",
       "      <td>4319</td>\n",
       "    </tr>\n",
       "    <tr>\n",
       "      <th>1</th>\n",
       "      <td>Data Governance Analyst in Data Governance tea...</td>\n",
       "      <td>SEB is a leading northern European financial s...</td>\n",
       "      <td>SEB Eesti</td>\n",
       "      <td>1,001-5,000</td>\n",
       "      <td>Financial Services</td>\n",
       "      <td>Full-time</td>\n",
       "      <td>-</td>\n",
       "      <td>data analyst</td>\n",
       "      <td>3489</td>\n",
       "    </tr>\n",
       "    <tr>\n",
       "      <th>2</th>\n",
       "      <td>Data Analyst at Baltic Banking AML/Fraud Inves...</td>\n",
       "      <td>Are you experienced data analyst with interest...</td>\n",
       "      <td>Swedbank</td>\n",
       "      <td>10,001+</td>\n",
       "      <td>Financial Services</td>\n",
       "      <td>Full-time</td>\n",
       "      <td>-</td>\n",
       "      <td>data analyst</td>\n",
       "      <td>2760</td>\n",
       "    </tr>\n",
       "    <tr>\n",
       "      <th>3</th>\n",
       "      <td>Data Analyst</td>\n",
       "      <td>Bolt is one of Europe’s leading technology com...</td>\n",
       "      <td>Bolt</td>\n",
       "      <td>1,001-5,000</td>\n",
       "      <td>Computer Software</td>\n",
       "      <td>Full-time</td>\n",
       "      <td>Entry level</td>\n",
       "      <td>data analyst</td>\n",
       "      <td>2250</td>\n",
       "    </tr>\n",
       "    <tr>\n",
       "      <th>4</th>\n",
       "      <td>Growth Analyst</td>\n",
       "      <td>As a Growth Analyst, you will be central to th...</td>\n",
       "      <td>Bolt</td>\n",
       "      <td>1,001-5,001</td>\n",
       "      <td>Computer Software</td>\n",
       "      <td>Full-time</td>\n",
       "      <td>Entry level</td>\n",
       "      <td>data analyst</td>\n",
       "      <td>1195</td>\n",
       "    </tr>\n",
       "  </tbody>\n",
       "</table>\n",
       "</div>"
      ],
      "text/plain": [
       "                                           Job titel  \\\n",
       "0                       Finance Product Data Analyst   \n",
       "1  Data Governance Analyst in Data Governance tea...   \n",
       "2  Data Analyst at Baltic Banking AML/Fraud Inves...   \n",
       "3                                       Data Analyst   \n",
       "4                                     Growth Analyst   \n",
       "\n",
       "                                     Job description    Company    Employees  \\\n",
       "0  As a financial institution moving billions of ...       Wise  1,001-5,000   \n",
       "1  SEB is a leading northern European financial s...  SEB Eesti  1,001-5,000   \n",
       "2  Are you experienced data analyst with interest...   Swedbank      10,001+   \n",
       "3  Bolt is one of Europe’s leading technology com...       Bolt  1,001-5,000   \n",
       "4  As a Growth Analyst, you will be central to th...       Bolt  1,001-5,001   \n",
       "\n",
       "                Field Type of work        Level      job_simp  desc_len  \n",
       "0  Financial Services    Full-time  Entry level  data analyst      4319  \n",
       "1  Financial Services    Full-time            -  data analyst      3489  \n",
       "2  Financial Services    Full-time            -  data analyst      2760  \n",
       "3   Computer Software    Full-time  Entry level  data analyst      2250  \n",
       "4   Computer Software    Full-time  Entry level  data analyst      1195  "
      ]
     },
     "execution_count": 68,
     "metadata": {},
     "output_type": "execute_result"
    }
   ],
   "source": [
    "df_job_skills.head()"
   ]
  },
  {
   "cell_type": "code",
   "execution_count": 69,
   "id": "cdbfae85",
   "metadata": {},
   "outputs": [
    {
     "data": {
      "text/html": [
       "<div>\n",
       "<style scoped>\n",
       "    .dataframe tbody tr th:only-of-type {\n",
       "        vertical-align: middle;\n",
       "    }\n",
       "\n",
       "    .dataframe tbody tr th {\n",
       "        vertical-align: top;\n",
       "    }\n",
       "\n",
       "    .dataframe thead th {\n",
       "        text-align: right;\n",
       "    }\n",
       "</style>\n",
       "<table border=\"1\" class=\"dataframe\">\n",
       "  <thead>\n",
       "    <tr style=\"text-align: right;\">\n",
       "      <th></th>\n",
       "      <th>desc_len</th>\n",
       "    </tr>\n",
       "  </thead>\n",
       "  <tbody>\n",
       "    <tr>\n",
       "      <th>count</th>\n",
       "      <td>24.000000</td>\n",
       "    </tr>\n",
       "    <tr>\n",
       "      <th>mean</th>\n",
       "      <td>3049.750000</td>\n",
       "    </tr>\n",
       "    <tr>\n",
       "      <th>std</th>\n",
       "      <td>1079.888732</td>\n",
       "    </tr>\n",
       "    <tr>\n",
       "      <th>min</th>\n",
       "      <td>1195.000000</td>\n",
       "    </tr>\n",
       "    <tr>\n",
       "      <th>25%</th>\n",
       "      <td>2437.750000</td>\n",
       "    </tr>\n",
       "    <tr>\n",
       "      <th>50%</th>\n",
       "      <td>2817.500000</td>\n",
       "    </tr>\n",
       "    <tr>\n",
       "      <th>75%</th>\n",
       "      <td>3326.250000</td>\n",
       "    </tr>\n",
       "    <tr>\n",
       "      <th>max</th>\n",
       "      <td>6336.000000</td>\n",
       "    </tr>\n",
       "  </tbody>\n",
       "</table>\n",
       "</div>"
      ],
      "text/plain": [
       "          desc_len\n",
       "count    24.000000\n",
       "mean   3049.750000\n",
       "std    1079.888732\n",
       "min    1195.000000\n",
       "25%    2437.750000\n",
       "50%    2817.500000\n",
       "75%    3326.250000\n",
       "max    6336.000000"
      ]
     },
     "execution_count": 69,
     "metadata": {},
     "output_type": "execute_result"
    }
   ],
   "source": [
    "df_job_skills.describe()\n"
   ]
  },
  {
   "cell_type": "markdown",
   "id": "998ca788",
   "metadata": {},
   "source": [
    "##Looking for skills like python SQL etc."
   ]
  },
  {
   "cell_type": "code",
   "execution_count": 70,
   "id": "cd526896",
   "metadata": {},
   "outputs": [
    {
     "data": {
      "text/plain": [
       "1    17\n",
       "0     7\n",
       "Name: python_skill, dtype: int64"
      ]
     },
     "execution_count": 70,
     "metadata": {},
     "output_type": "execute_result"
    }
   ],
   "source": [
    "df_job_skills['python_skill'] = df_job_skills['Job description'].apply(lambda x: 1 if 'python' in x.lower() else 0)\n",
    "df_job_skills.python_skill.value_counts()"
   ]
  },
  {
   "cell_type": "code",
   "execution_count": 71,
   "id": "24d4cb0f",
   "metadata": {},
   "outputs": [
    {
     "data": {
      "text/plain": [
       "1    21\n",
       "0     3\n",
       "Name: sql_skill, dtype: int64"
      ]
     },
     "execution_count": 71,
     "metadata": {},
     "output_type": "execute_result"
    }
   ],
   "source": [
    "df_job_skills['sql_skill'] = df_job_skills['Job description'].apply(lambda x: 1 if 'sql' in x.lower() else 0)\n",
    "df_job_skills.sql_skill.value_counts()"
   ]
  },
  {
   "cell_type": "code",
   "execution_count": 72,
   "id": "fd159a37",
   "metadata": {},
   "outputs": [
    {
     "data": {
      "text/plain": [
       "0    15\n",
       "1     9\n",
       "Name: excel_skill, dtype: int64"
      ]
     },
     "execution_count": 72,
     "metadata": {},
     "output_type": "execute_result"
    }
   ],
   "source": [
    "df_job_skills['excel_skill'] = df_job_skills['Job description'].apply(lambda x: 1 if 'excel' in x.lower() else 0)\n",
    "df_job_skills.excel_skill.value_counts()"
   ]
  },
  {
   "cell_type": "code",
   "execution_count": 73,
   "id": "a0004b40",
   "metadata": {},
   "outputs": [
    {
     "data": {
      "text/plain": [
       "0    18\n",
       "1     6\n",
       "Name: aws_skill, dtype: int64"
      ]
     },
     "execution_count": 73,
     "metadata": {},
     "output_type": "execute_result"
    }
   ],
   "source": [
    "df_job_skills['aws_skill'] = df_job_skills['Job description'].apply(lambda x: 1 if 'aws' in x.lower() else 0)\n",
    "df_job_skills.aws_skill.value_counts()"
   ]
  },
  {
   "cell_type": "code",
   "execution_count": 74,
   "id": "058ce1c4",
   "metadata": {},
   "outputs": [
    {
     "data": {
      "text/plain": [
       "0    24\n",
       "Name: r_skill, dtype: int64"
      ]
     },
     "execution_count": 74,
     "metadata": {},
     "output_type": "execute_result"
    }
   ],
   "source": [
    "df_job_skills['r_skill'] = df_job_skills['Job description'].apply(lambda x: 1 if 'r studio' in x.lower() else 0)\n",
    "df_job_skills.r_skill.value_counts()"
   ]
  },
  {
   "cell_type": "code",
   "execution_count": 75,
   "id": "73c4b6cd",
   "metadata": {},
   "outputs": [
    {
     "data": {
      "text/plain": [
       "0    22\n",
       "1     2\n",
       "Name: spark_skill, dtype: int64"
      ]
     },
     "execution_count": 75,
     "metadata": {},
     "output_type": "execute_result"
    }
   ],
   "source": [
    "df_job_skills['spark_skill'] = df_job_skills['Job description'].apply(lambda x: 1 if 'spark' in x.lower() else 0)\n",
    "df_job_skills.spark_skill.value_counts()"
   ]
  },
  {
   "cell_type": "code",
   "execution_count": 76,
   "id": "0ed20111",
   "metadata": {},
   "outputs": [
    {
     "data": {
      "text/plain": [
       "0    18\n",
       "1     6\n",
       "Name: tableau_skill, dtype: int64"
      ]
     },
     "execution_count": 76,
     "metadata": {},
     "output_type": "execute_result"
    }
   ],
   "source": [
    "df_job_skills['tableau_skill'] = df_job_skills['Job description'].apply(lambda x: 1 if 'tableau' in x.lower() else 0)\n",
    "df_job_skills.tableau_skill.value_counts()"
   ]
  },
  {
   "cell_type": "code",
   "execution_count": 77,
   "id": "907a60ea",
   "metadata": {},
   "outputs": [
    {
     "data": {
      "text/plain": [
       "0    22\n",
       "1     2\n",
       "Name: powerbi_skill, dtype: int64"
      ]
     },
     "execution_count": 77,
     "metadata": {},
     "output_type": "execute_result"
    }
   ],
   "source": [
    "df_job_skills['powerbi_skill'] = df_job_skills['Job description'].apply(lambda x: 1 if 'power bi' in x.lower() else 0)\n",
    "df_job_skills.powerbi_skill.value_counts()"
   ]
  },
  {
   "cell_type": "code",
   "execution_count": 78,
   "id": "36499a98",
   "metadata": {},
   "outputs": [],
   "source": [
    "# We got nothing for R and Spark so let´s drop them\n",
    "df_job_skills.drop(['r_skill'], axis=1,inplace=True)\n",
    "df_job_skills.drop(['spark_skill'], axis=1,inplace=True)"
   ]
  },
  {
   "cell_type": "code",
   "execution_count": 79,
   "id": "ca569db2",
   "metadata": {},
   "outputs": [
    {
     "data": {
      "text/html": [
       "<div>\n",
       "<style scoped>\n",
       "    .dataframe tbody tr th:only-of-type {\n",
       "        vertical-align: middle;\n",
       "    }\n",
       "\n",
       "    .dataframe tbody tr th {\n",
       "        vertical-align: top;\n",
       "    }\n",
       "\n",
       "    .dataframe thead th {\n",
       "        text-align: right;\n",
       "    }\n",
       "</style>\n",
       "<table border=\"1\" class=\"dataframe\">\n",
       "  <thead>\n",
       "    <tr style=\"text-align: right;\">\n",
       "      <th></th>\n",
       "      <th>Job titel</th>\n",
       "      <th>Job description</th>\n",
       "      <th>Company</th>\n",
       "      <th>Employees</th>\n",
       "      <th>Field</th>\n",
       "      <th>Type of work</th>\n",
       "      <th>Level</th>\n",
       "      <th>job_simp</th>\n",
       "      <th>desc_len</th>\n",
       "      <th>python_skill</th>\n",
       "      <th>sql_skill</th>\n",
       "      <th>excel_skill</th>\n",
       "      <th>aws_skill</th>\n",
       "      <th>tableau_skill</th>\n",
       "      <th>powerbi_skill</th>\n",
       "    </tr>\n",
       "  </thead>\n",
       "  <tbody>\n",
       "    <tr>\n",
       "      <th>0</th>\n",
       "      <td>Finance Product Data Analyst</td>\n",
       "      <td>As a financial institution moving billions of ...</td>\n",
       "      <td>Wise</td>\n",
       "      <td>1,001-5,000</td>\n",
       "      <td>Financial Services</td>\n",
       "      <td>Full-time</td>\n",
       "      <td>Entry level</td>\n",
       "      <td>data analyst</td>\n",
       "      <td>4319</td>\n",
       "      <td>1</td>\n",
       "      <td>1</td>\n",
       "      <td>0</td>\n",
       "      <td>0</td>\n",
       "      <td>1</td>\n",
       "      <td>0</td>\n",
       "    </tr>\n",
       "    <tr>\n",
       "      <th>1</th>\n",
       "      <td>Data Governance Analyst in Data Governance tea...</td>\n",
       "      <td>SEB is a leading northern European financial s...</td>\n",
       "      <td>SEB Eesti</td>\n",
       "      <td>1,001-5,000</td>\n",
       "      <td>Financial Services</td>\n",
       "      <td>Full-time</td>\n",
       "      <td>-</td>\n",
       "      <td>data analyst</td>\n",
       "      <td>3489</td>\n",
       "      <td>0</td>\n",
       "      <td>0</td>\n",
       "      <td>1</td>\n",
       "      <td>0</td>\n",
       "      <td>0</td>\n",
       "      <td>0</td>\n",
       "    </tr>\n",
       "    <tr>\n",
       "      <th>2</th>\n",
       "      <td>Data Analyst at Baltic Banking AML/Fraud Inves...</td>\n",
       "      <td>Are you experienced data analyst with interest...</td>\n",
       "      <td>Swedbank</td>\n",
       "      <td>10,001+</td>\n",
       "      <td>Financial Services</td>\n",
       "      <td>Full-time</td>\n",
       "      <td>-</td>\n",
       "      <td>data analyst</td>\n",
       "      <td>2760</td>\n",
       "      <td>1</td>\n",
       "      <td>1</td>\n",
       "      <td>0</td>\n",
       "      <td>0</td>\n",
       "      <td>0</td>\n",
       "      <td>0</td>\n",
       "    </tr>\n",
       "    <tr>\n",
       "      <th>3</th>\n",
       "      <td>Data Analyst</td>\n",
       "      <td>Bolt is one of Europe’s leading technology com...</td>\n",
       "      <td>Bolt</td>\n",
       "      <td>1,001-5,000</td>\n",
       "      <td>Computer Software</td>\n",
       "      <td>Full-time</td>\n",
       "      <td>Entry level</td>\n",
       "      <td>data analyst</td>\n",
       "      <td>2250</td>\n",
       "      <td>1</td>\n",
       "      <td>1</td>\n",
       "      <td>1</td>\n",
       "      <td>1</td>\n",
       "      <td>1</td>\n",
       "      <td>0</td>\n",
       "    </tr>\n",
       "    <tr>\n",
       "      <th>4</th>\n",
       "      <td>Growth Analyst</td>\n",
       "      <td>As a Growth Analyst, you will be central to th...</td>\n",
       "      <td>Bolt</td>\n",
       "      <td>1,001-5,001</td>\n",
       "      <td>Computer Software</td>\n",
       "      <td>Full-time</td>\n",
       "      <td>Entry level</td>\n",
       "      <td>data analyst</td>\n",
       "      <td>1195</td>\n",
       "      <td>0</td>\n",
       "      <td>1</td>\n",
       "      <td>1</td>\n",
       "      <td>0</td>\n",
       "      <td>0</td>\n",
       "      <td>0</td>\n",
       "    </tr>\n",
       "  </tbody>\n",
       "</table>\n",
       "</div>"
      ],
      "text/plain": [
       "                                           Job titel  \\\n",
       "0                       Finance Product Data Analyst   \n",
       "1  Data Governance Analyst in Data Governance tea...   \n",
       "2  Data Analyst at Baltic Banking AML/Fraud Inves...   \n",
       "3                                       Data Analyst   \n",
       "4                                     Growth Analyst   \n",
       "\n",
       "                                     Job description    Company    Employees  \\\n",
       "0  As a financial institution moving billions of ...       Wise  1,001-5,000   \n",
       "1  SEB is a leading northern European financial s...  SEB Eesti  1,001-5,000   \n",
       "2  Are you experienced data analyst with interest...   Swedbank      10,001+   \n",
       "3  Bolt is one of Europe’s leading technology com...       Bolt  1,001-5,000   \n",
       "4  As a Growth Analyst, you will be central to th...       Bolt  1,001-5,001   \n",
       "\n",
       "                Field Type of work        Level      job_simp  desc_len  \\\n",
       "0  Financial Services    Full-time  Entry level  data analyst      4319   \n",
       "1  Financial Services    Full-time            -  data analyst      3489   \n",
       "2  Financial Services    Full-time            -  data analyst      2760   \n",
       "3   Computer Software    Full-time  Entry level  data analyst      2250   \n",
       "4   Computer Software    Full-time  Entry level  data analyst      1195   \n",
       "\n",
       "   python_skill  sql_skill  excel_skill  aws_skill  tableau_skill  \\\n",
       "0             1          1            0          0              1   \n",
       "1             0          0            1          0              0   \n",
       "2             1          1            0          0              0   \n",
       "3             1          1            1          1              1   \n",
       "4             0          1            1          0              0   \n",
       "\n",
       "   powerbi_skill  \n",
       "0              0  \n",
       "1              0  \n",
       "2              0  \n",
       "3              0  \n",
       "4              0  "
      ]
     },
     "execution_count": 79,
     "metadata": {},
     "output_type": "execute_result"
    }
   ],
   "source": [
    "df_job_skills.head()"
   ]
  },
  {
   "cell_type": "markdown",
   "id": "eef3bbe2",
   "metadata": {},
   "source": [
    "##Exploring eductaion level needed:\n"
   ]
  },
  {
   "cell_type": "code",
   "execution_count": 80,
   "id": "5d77842d",
   "metadata": {},
   "outputs": [],
   "source": [
    "def education(level):\n",
    "        if 'bachelor' in level.lower():\n",
    "            return 'bachelor'\n",
    "        elif 'bsc' in level.lower():\n",
    "            return 'bachelor'\n",
    "        elif 'master' in level.lower():\n",
    "            return 'master'\n",
    "        elif 'msc' in level.lower():\n",
    "            return 'master'\n",
    "        elif 'phd' in level.lower():\n",
    "            return 'Phd'\n",
    "        else:\n",
    "            return 'na'"
   ]
  },
  {
   "cell_type": "code",
   "execution_count": 81,
   "id": "02cf7d7f",
   "metadata": {},
   "outputs": [],
   "source": [
    "df_job_skills['education_lvl'] = df_job_skills['Job description'].apply(education)"
   ]
  },
  {
   "cell_type": "code",
   "execution_count": 82,
   "id": "4b331304",
   "metadata": {},
   "outputs": [
    {
     "data": {
      "text/plain": [
       "na          14\n",
       "bachelor     6\n",
       "master       4\n",
       "Name: education_lvl, dtype: int64"
      ]
     },
     "execution_count": 82,
     "metadata": {},
     "output_type": "execute_result"
    }
   ],
   "source": [
    "df_job_skills.education_lvl.value_counts()"
   ]
  },
  {
   "cell_type": "markdown",
   "id": "c8ef753b",
   "metadata": {},
   "source": [
    "Error because some descriptions have more than one. Trying again.\n"
   ]
  },
  {
   "cell_type": "code",
   "execution_count": 83,
   "id": "b7e4ab0b",
   "metadata": {},
   "outputs": [],
   "source": [
    "df_job_skills.drop(['education_lvl'], axis=1,inplace=True)"
   ]
  },
  {
   "cell_type": "code",
   "execution_count": 84,
   "id": "3914c846",
   "metadata": {},
   "outputs": [],
   "source": [
    "miniumum_qualifications_string = \" \".join(str(v) for v in 'Job description').lower()\n",
    "degree_list = [\"ba\", \"bs\", \"bachelor's\",\"master's\", \"phd\"]"
   ]
  },
  {
   "cell_type": "code",
   "execution_count": 85,
   "id": "6dbba721",
   "metadata": {},
   "outputs": [
    {
     "name": "stdout",
     "output_type": "stream",
     "text": [
      "{'ba': 0, 'bs': 0, \"bachelor's\": 0, \"master's\": 0, 'phd': 0}\n"
     ]
    }
   ],
   "source": [
    "import re\n",
    "wordcount = dict((x,0) for x in degree_list)\n",
    "for w in re.findall(r\"[\\w']+|[.,!?;’]\", miniumum_qualifications_string):\n",
    "    if w in wordcount:\n",
    "        wordcount[w] += 1\n",
    "# print\n",
    "print(wordcount)"
   ]
  },
  {
   "cell_type": "markdown",
   "id": "c4e90b0e",
   "metadata": {},
   "source": [
    "Failed again. "
   ]
  },
  {
   "cell_type": "code",
   "execution_count": 86,
   "id": "6701a3cc",
   "metadata": {},
   "outputs": [
    {
     "data": {
      "text/plain": [
       "0    20\n",
       "1     4\n",
       "Name: masters, dtype: int64"
      ]
     },
     "execution_count": 86,
     "metadata": {},
     "output_type": "execute_result"
    }
   ],
   "source": [
    "df_job_skills['masters'] = df_job_skills['Job description'].apply(lambda x: 1 if 'master' in x.lower() else 0)\n",
    "df_job_skills.masters.value_counts()"
   ]
  },
  {
   "cell_type": "code",
   "execution_count": 87,
   "id": "14159f56",
   "metadata": {},
   "outputs": [
    {
     "data": {
      "text/plain": [
       "0    21\n",
       "1     3\n",
       "Name: bachelors, dtype: int64"
      ]
     },
     "execution_count": 87,
     "metadata": {},
     "output_type": "execute_result"
    }
   ],
   "source": [
    "df_job_skills['bachelors'] = df_job_skills['Job description'].apply(lambda x: 1 if 'bachelor' in x.lower() else 0)\n",
    "df_job_skills.bachelors.value_counts()"
   ]
  },
  {
   "cell_type": "code",
   "execution_count": 88,
   "id": "7e9fe814",
   "metadata": {},
   "outputs": [
    {
     "data": {
      "text/plain": [
       "0    21\n",
       "1     3\n",
       "Name: PhD, dtype: int64"
      ]
     },
     "execution_count": 88,
     "metadata": {},
     "output_type": "execute_result"
    }
   ],
   "source": [
    "df_job_skills['PhD'] = df_job_skills['Job description'].apply(lambda x: 1 if 'phd' in x.lower() else 0)\n",
    "df_job_skills.PhD.value_counts()"
   ]
  },
  {
   "cell_type": "code",
   "execution_count": 89,
   "id": "f63ff5d4",
   "metadata": {},
   "outputs": [
    {
     "data": {
      "text/html": [
       "<div>\n",
       "<style scoped>\n",
       "    .dataframe tbody tr th:only-of-type {\n",
       "        vertical-align: middle;\n",
       "    }\n",
       "\n",
       "    .dataframe tbody tr th {\n",
       "        vertical-align: top;\n",
       "    }\n",
       "\n",
       "    .dataframe thead th {\n",
       "        text-align: right;\n",
       "    }\n",
       "</style>\n",
       "<table border=\"1\" class=\"dataframe\">\n",
       "  <thead>\n",
       "    <tr style=\"text-align: right;\">\n",
       "      <th></th>\n",
       "      <th>desc_len</th>\n",
       "      <th>python_skill</th>\n",
       "      <th>sql_skill</th>\n",
       "      <th>excel_skill</th>\n",
       "      <th>aws_skill</th>\n",
       "      <th>tableau_skill</th>\n",
       "      <th>powerbi_skill</th>\n",
       "      <th>masters</th>\n",
       "      <th>bachelors</th>\n",
       "      <th>PhD</th>\n",
       "    </tr>\n",
       "  </thead>\n",
       "  <tbody>\n",
       "    <tr>\n",
       "      <th>count</th>\n",
       "      <td>24.000000</td>\n",
       "      <td>24.000000</td>\n",
       "      <td>24.000000</td>\n",
       "      <td>24.000000</td>\n",
       "      <td>24.000000</td>\n",
       "      <td>24.000000</td>\n",
       "      <td>24.000000</td>\n",
       "      <td>24.000000</td>\n",
       "      <td>24.000000</td>\n",
       "      <td>24.000000</td>\n",
       "    </tr>\n",
       "    <tr>\n",
       "      <th>mean</th>\n",
       "      <td>3049.750000</td>\n",
       "      <td>0.708333</td>\n",
       "      <td>0.875000</td>\n",
       "      <td>0.375000</td>\n",
       "      <td>0.250000</td>\n",
       "      <td>0.250000</td>\n",
       "      <td>0.083333</td>\n",
       "      <td>0.166667</td>\n",
       "      <td>0.125000</td>\n",
       "      <td>0.125000</td>\n",
       "    </tr>\n",
       "    <tr>\n",
       "      <th>std</th>\n",
       "      <td>1079.888732</td>\n",
       "      <td>0.464306</td>\n",
       "      <td>0.337832</td>\n",
       "      <td>0.494535</td>\n",
       "      <td>0.442326</td>\n",
       "      <td>0.442326</td>\n",
       "      <td>0.282330</td>\n",
       "      <td>0.380693</td>\n",
       "      <td>0.337832</td>\n",
       "      <td>0.337832</td>\n",
       "    </tr>\n",
       "    <tr>\n",
       "      <th>min</th>\n",
       "      <td>1195.000000</td>\n",
       "      <td>0.000000</td>\n",
       "      <td>0.000000</td>\n",
       "      <td>0.000000</td>\n",
       "      <td>0.000000</td>\n",
       "      <td>0.000000</td>\n",
       "      <td>0.000000</td>\n",
       "      <td>0.000000</td>\n",
       "      <td>0.000000</td>\n",
       "      <td>0.000000</td>\n",
       "    </tr>\n",
       "    <tr>\n",
       "      <th>25%</th>\n",
       "      <td>2437.750000</td>\n",
       "      <td>0.000000</td>\n",
       "      <td>1.000000</td>\n",
       "      <td>0.000000</td>\n",
       "      <td>0.000000</td>\n",
       "      <td>0.000000</td>\n",
       "      <td>0.000000</td>\n",
       "      <td>0.000000</td>\n",
       "      <td>0.000000</td>\n",
       "      <td>0.000000</td>\n",
       "    </tr>\n",
       "    <tr>\n",
       "      <th>50%</th>\n",
       "      <td>2817.500000</td>\n",
       "      <td>1.000000</td>\n",
       "      <td>1.000000</td>\n",
       "      <td>0.000000</td>\n",
       "      <td>0.000000</td>\n",
       "      <td>0.000000</td>\n",
       "      <td>0.000000</td>\n",
       "      <td>0.000000</td>\n",
       "      <td>0.000000</td>\n",
       "      <td>0.000000</td>\n",
       "    </tr>\n",
       "    <tr>\n",
       "      <th>75%</th>\n",
       "      <td>3326.250000</td>\n",
       "      <td>1.000000</td>\n",
       "      <td>1.000000</td>\n",
       "      <td>1.000000</td>\n",
       "      <td>0.250000</td>\n",
       "      <td>0.250000</td>\n",
       "      <td>0.000000</td>\n",
       "      <td>0.000000</td>\n",
       "      <td>0.000000</td>\n",
       "      <td>0.000000</td>\n",
       "    </tr>\n",
       "    <tr>\n",
       "      <th>max</th>\n",
       "      <td>6336.000000</td>\n",
       "      <td>1.000000</td>\n",
       "      <td>1.000000</td>\n",
       "      <td>1.000000</td>\n",
       "      <td>1.000000</td>\n",
       "      <td>1.000000</td>\n",
       "      <td>1.000000</td>\n",
       "      <td>1.000000</td>\n",
       "      <td>1.000000</td>\n",
       "      <td>1.000000</td>\n",
       "    </tr>\n",
       "  </tbody>\n",
       "</table>\n",
       "</div>"
      ],
      "text/plain": [
       "          desc_len  python_skill  sql_skill  excel_skill  aws_skill  \\\n",
       "count    24.000000     24.000000  24.000000    24.000000  24.000000   \n",
       "mean   3049.750000      0.708333   0.875000     0.375000   0.250000   \n",
       "std    1079.888732      0.464306   0.337832     0.494535   0.442326   \n",
       "min    1195.000000      0.000000   0.000000     0.000000   0.000000   \n",
       "25%    2437.750000      0.000000   1.000000     0.000000   0.000000   \n",
       "50%    2817.500000      1.000000   1.000000     0.000000   0.000000   \n",
       "75%    3326.250000      1.000000   1.000000     1.000000   0.250000   \n",
       "max    6336.000000      1.000000   1.000000     1.000000   1.000000   \n",
       "\n",
       "       tableau_skill  powerbi_skill    masters  bachelors        PhD  \n",
       "count      24.000000      24.000000  24.000000  24.000000  24.000000  \n",
       "mean        0.250000       0.083333   0.166667   0.125000   0.125000  \n",
       "std         0.442326       0.282330   0.380693   0.337832   0.337832  \n",
       "min         0.000000       0.000000   0.000000   0.000000   0.000000  \n",
       "25%         0.000000       0.000000   0.000000   0.000000   0.000000  \n",
       "50%         0.000000       0.000000   0.000000   0.000000   0.000000  \n",
       "75%         0.250000       0.000000   0.000000   0.000000   0.000000  \n",
       "max         1.000000       1.000000   1.000000   1.000000   1.000000  "
      ]
     },
     "execution_count": 89,
     "metadata": {},
     "output_type": "execute_result"
    }
   ],
   "source": [
    "df_job_skills.describe()"
   ]
  },
  {
   "cell_type": "markdown",
   "id": "7e7e3e54",
   "metadata": {},
   "source": [
    "## 4. Exploring with visualizations "
   ]
  },
  {
   "cell_type": "code",
   "execution_count": 90,
   "id": "b70f4d8d",
   "metadata": {},
   "outputs": [
    {
     "name": "stderr",
     "output_type": "stream",
     "text": [
      "C:\\Users\\Margarita\\AppData\\Local\\Temp\\ipykernel_14692\\1842812165.py:3: FutureWarning: The default value of numeric_only in DataFrame.corr is deprecated. In a future version, it will default to False. Select only valid columns or specify the value of numeric_only to silence this warning.\n",
      "  matrix = np.triu(df_job_skills.corr())\n",
      "C:\\Users\\Margarita\\AppData\\Local\\Temp\\ipykernel_14692\\1842812165.py:4: FutureWarning: The default value of numeric_only in DataFrame.corr is deprecated. In a future version, it will default to False. Select only valid columns or specify the value of numeric_only to silence this warning.\n",
      "  sns.heatmap(df_job_skills.corr(),annot=True, fmt='.1g', vmin=-1, vmax=1, center= 0,  ax=ax)\n"
     ]
    },
    {
     "data": {
      "text/plain": [
       "<AxesSubplot: >"
      ]
     },
     "execution_count": 90,
     "metadata": {},
     "output_type": "execute_result"
    },
    {
     "data": {
      "image/png": "[encoded data removed]",
      "text/plain": [
       "<Figure size 1000x1000 with 2 Axes>"
      ]
     },
     "metadata": {},
     "output_type": "display_data"
    }
   ],
   "source": [
    "import numpy as np\n",
    "fig, ax = plt.subplots(figsize=(10,10)) \n",
    "matrix = np.triu(df_job_skills.corr())\n",
    "sns.heatmap(df_job_skills.corr(),annot=True, fmt='.1g', vmin=-1, vmax=1, center= 0,  ax=ax)\n"
   ]
  },
  {
   "cell_type": "code",
   "execution_count": 91,
   "id": "9ce3e81b",
   "metadata": {},
   "outputs": [
    {
     "data": {
      "text/plain": [
       "<AxesSubplot: >"
      ]
     },
     "execution_count": 91,
     "metadata": {},
     "output_type": "execute_result"
    },
    {
     "data": {
      "image/png": "[encoded data removed]",
      "text/plain": [
       "<Figure size 640x480 with 1 Axes>"
      ]
     },
     "metadata": {},
     "output_type": "display_data"
    }
   ],
   "source": [
    "df_job_skills.desc_len.hist()"
   ]
  },
  {
   "cell_type": "code",
   "execution_count": 92,
   "id": "8297a1e9",
   "metadata": {},
   "outputs": [
    {
     "data": {
      "image/png": "[encoded data removed]",
      "text/plain": [
       "<Figure size 640x480 with 1 Axes>"
      ]
     },
     "metadata": {},
     "output_type": "display_data"
    }
   ],
   "source": [
    "df_job_skills.Employees.hist()\n",
    "plt.suptitle(\"Size of companies hiring based on employee count\", fontsize=15)\n",
    "plt.savefig('Company size count.png')"
   ]
  },
  {
   "cell_type": "code",
   "execution_count": 93,
   "id": "4ff92f2a",
   "metadata": {},
   "outputs": [
    {
     "data": {
      "image/png": "[encoded data removed]",
      "text/plain": [
       "<Figure size 700x700 with 1 Axes>"
      ]
     },
     "metadata": {},
     "output_type": "display_data"
    }
   ],
   "source": [
    "fig, ax = plt.subplots(figsize=(7,7)) \n",
    "chart = sns.barplot(x=df_job_skills.Field.value_counts().index, y=df_job_skills.Field.value_counts())\n",
    "_=chart.set_xticklabels(chart.get_xticklabels(), rotation=90)\n",
    "plt.suptitle(\"Industries hiring in Tallinn\", fontsize=15)\n",
    "plt.savefig('Job industry count.png')"
   ]
  },
  {
   "cell_type": "code",
   "execution_count": 94,
   "id": "0e90d1f6",
   "metadata": {
    "scrolled": true
   },
   "outputs": [
    {
     "data": {
      "image/png": "[encoded data removed]",
      "text/plain": [
       "<Figure size 700x700 with 1 Axes>"
      ]
     },
     "metadata": {},
     "output_type": "display_data"
    }
   ],
   "source": [
    "fig, ax = plt.subplots(figsize=(7,7)) \n",
    "chart = sns.barplot(x=df_job_skills.job_simp.value_counts().index, y=df_job_skills.job_simp.value_counts())\n",
    "_=chart.set_xticklabels(chart.get_xticklabels(), rotation=35)\n",
    "plt.suptitle(\"Job titels\", fontsize=15)\n",
    "plt.savefig('Job title count.png')"
   ]
  },
  {
   "cell_type": "code",
   "execution_count": null,
   "id": "9c126d5b",
   "metadata": {},
   "outputs": [],
   "source": []
  }
 ],
 "metadata": {
  "kernelspec": {
   "display_name": "Python 3 (ipykernel)",
   "language": "python",
   "name": "python3"
  },
  "language_info": {
   "codemirror_mode": {
    "name": "ipython",
    "version": 3
   },
   "file_extension": ".py",
   "mimetype": "text/x-python",
   "name": "python",
   "nbconvert_exporter": "python",
   "pygments_lexer": "ipython3",
   "version": "3.11.1"
  }
 },
 "nbformat": 4,
 "nbformat_minor": 5
}
